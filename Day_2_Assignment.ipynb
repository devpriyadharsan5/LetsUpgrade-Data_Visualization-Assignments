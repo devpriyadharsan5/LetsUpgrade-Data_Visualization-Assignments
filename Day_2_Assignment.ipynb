{
  "nbformat": 4,
  "nbformat_minor": 0,
  "metadata": {
    "colab": {
      "name": "Day 2 Assignment.ipynb",
      "provenance": []
    },
    "kernelspec": {
      "name": "python3",
      "display_name": "Python 3"
    },
    "language_info": {
      "name": "python"
    }
  },
  "cells": [
    {
      "cell_type": "code",
      "metadata": {
        "id": "eSHc2LZ6l8qw"
      },
      "source": [
        "\n",
        "import numpy as np\n",
        "import pandas as pd\n",
        "import seaborn as sns\n",
        "import matplotlib as mpl\n",
        "import matplotlib.pyplot as plt\n",
        "%matplotlib inline\n",
        "\n",
        "from numpy.random import randn,randint,uniform,sample\n",
        "\n"
      ],
      "execution_count": 1,
      "outputs": []
    },
    {
      "cell_type": "code",
      "metadata": {
        "colab": {
          "base_uri": "https://localhost:8080/",
          "height": 358
        },
        "id": "n6KYs4jwmAOK",
        "outputId": "7b8d25fc-b857-456b-d166-cb2a0c4d87dc"
      },
      "source": [
        "df = pd.DataFrame(randn(10,4), columns=['a','b','c','d'])\n",
        "df"
      ],
      "execution_count": 2,
      "outputs": [
        {
          "output_type": "execute_result",
          "data": {
            "text/html": [
              "<div>\n",
              "<style scoped>\n",
              "    .dataframe tbody tr th:only-of-type {\n",
              "        vertical-align: middle;\n",
              "    }\n",
              "\n",
              "    .dataframe tbody tr th {\n",
              "        vertical-align: top;\n",
              "    }\n",
              "\n",
              "    .dataframe thead th {\n",
              "        text-align: right;\n",
              "    }\n",
              "</style>\n",
              "<table border=\"1\" class=\"dataframe\">\n",
              "  <thead>\n",
              "    <tr style=\"text-align: right;\">\n",
              "      <th></th>\n",
              "      <th>a</th>\n",
              "      <th>b</th>\n",
              "      <th>c</th>\n",
              "      <th>d</th>\n",
              "    </tr>\n",
              "  </thead>\n",
              "  <tbody>\n",
              "    <tr>\n",
              "      <th>0</th>\n",
              "      <td>1.585707</td>\n",
              "      <td>0.348779</td>\n",
              "      <td>-1.763505</td>\n",
              "      <td>0.698603</td>\n",
              "    </tr>\n",
              "    <tr>\n",
              "      <th>1</th>\n",
              "      <td>0.172758</td>\n",
              "      <td>-1.555426</td>\n",
              "      <td>2.045277</td>\n",
              "      <td>0.170680</td>\n",
              "    </tr>\n",
              "    <tr>\n",
              "      <th>2</th>\n",
              "      <td>1.417515</td>\n",
              "      <td>1.386099</td>\n",
              "      <td>-0.995235</td>\n",
              "      <td>-1.745073</td>\n",
              "    </tr>\n",
              "    <tr>\n",
              "      <th>3</th>\n",
              "      <td>0.052050</td>\n",
              "      <td>-0.320161</td>\n",
              "      <td>-0.701471</td>\n",
              "      <td>-0.438253</td>\n",
              "    </tr>\n",
              "    <tr>\n",
              "      <th>4</th>\n",
              "      <td>0.754608</td>\n",
              "      <td>-0.018559</td>\n",
              "      <td>0.784313</td>\n",
              "      <td>-0.565931</td>\n",
              "    </tr>\n",
              "    <tr>\n",
              "      <th>5</th>\n",
              "      <td>0.036161</td>\n",
              "      <td>2.321916</td>\n",
              "      <td>1.566431</td>\n",
              "      <td>0.947372</td>\n",
              "    </tr>\n",
              "    <tr>\n",
              "      <th>6</th>\n",
              "      <td>-0.564023</td>\n",
              "      <td>1.947523</td>\n",
              "      <td>-0.253305</td>\n",
              "      <td>-0.038652</td>\n",
              "    </tr>\n",
              "    <tr>\n",
              "      <th>7</th>\n",
              "      <td>-1.273034</td>\n",
              "      <td>0.648555</td>\n",
              "      <td>-0.509818</td>\n",
              "      <td>1.342449</td>\n",
              "    </tr>\n",
              "    <tr>\n",
              "      <th>8</th>\n",
              "      <td>-0.043083</td>\n",
              "      <td>-0.837043</td>\n",
              "      <td>-0.537047</td>\n",
              "      <td>1.042935</td>\n",
              "    </tr>\n",
              "    <tr>\n",
              "      <th>9</th>\n",
              "      <td>1.219123</td>\n",
              "      <td>0.295944</td>\n",
              "      <td>-1.711413</td>\n",
              "      <td>1.008746</td>\n",
              "    </tr>\n",
              "  </tbody>\n",
              "</table>\n",
              "</div>"
            ],
            "text/plain": [
              "          a         b         c         d\n",
              "0  1.585707  0.348779 -1.763505  0.698603\n",
              "1  0.172758 -1.555426  2.045277  0.170680\n",
              "2  1.417515  1.386099 -0.995235 -1.745073\n",
              "3  0.052050 -0.320161 -0.701471 -0.438253\n",
              "4  0.754608 -0.018559  0.784313 -0.565931\n",
              "5  0.036161  2.321916  1.566431  0.947372\n",
              "6 -0.564023  1.947523 -0.253305 -0.038652\n",
              "7 -1.273034  0.648555 -0.509818  1.342449\n",
              "8 -0.043083 -0.837043 -0.537047  1.042935\n",
              "9  1.219123  0.295944 -1.711413  1.008746"
            ]
          },
          "metadata": {
            "tags": []
          },
          "execution_count": 2
        }
      ]
    },
    {
      "cell_type": "code",
      "metadata": {
        "colab": {
          "base_uri": "https://localhost:8080/",
          "height": 568
        },
        "id": "rfITmxBdmB5v",
        "outputId": "c5a177a4-3b27-43c7-bb96-933d2d90a916"
      },
      "source": [
        "df.plot(kind='bar',width=(2),figsize=(10,9))\n",
        "plt.title('Bar Graph')"
      ],
      "execution_count": 4,
      "outputs": [
        {
          "output_type": "execute_result",
          "data": {
            "text/plain": [
              "Text(0.5, 1.0, 'Bar Graph')"
            ]
          },
          "metadata": {
            "tags": []
          },
          "execution_count": 4
        },
        {
          "output_type": "display_data",
          "data": {
            "image/png": "[encoded data removed]",
            "text/plain": [
              "<Figure size 720x648 with 1 Axes>"
            ]
          },
          "metadata": {
            "tags": [],
            "needs_background": "light"
          }
        }
      ]
    }
  ]
}